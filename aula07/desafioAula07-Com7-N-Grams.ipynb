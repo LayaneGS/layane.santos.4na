{
 "cells": [
  {
   "cell_type": "markdown",
   "id": "cb1bf7ef",
   "metadata": {},
   "source": [
    "Importar bibliotecas"
   ]
  },
  {
   "cell_type": "code",
   "execution_count": 1,
   "id": "2bc8009d",
   "metadata": {},
   "outputs": [],
   "source": [
    "import numpy as np\n",
    "import pandas as pd\n",
    "import re\n",
    "import random\n",
    "from collections import defaultdict, Counter\n",
    "import matplotlib.pyplot as plt\n",
    "%matplotlib inline"
   ]
  },
  {
   "cell_type": "markdown",
   "id": "a9d95222",
   "metadata": {},
   "source": [
    "Criando função de limpeza do texto"
   ]
  },
  {
   "cell_type": "code",
   "execution_count": 2,
   "id": "4f73461f",
   "metadata": {},
   "outputs": [],
   "source": [
    "def limpar_texto(texto):\n",
    "    texto = texto.lower()  # Converte tudo para minúsculas\n",
    "    texto = re.sub(r'[^\\w\\s]', ' ', texto)  # Remove pontuações\n",
    "    texto = re.sub(r'\\d+', ' ', texto)      # Remove números\n",
    "    texto = re.sub(r'\\s+', ' ', texto)      # Substitui múltiplos espaços por um só\n",
    "    return texto.strip()"
   ]
  },
  {
   "cell_type": "markdown",
   "id": "5256257f",
   "metadata": {},
   "source": [
    "Texto modelo"
   ]
  },
  {
   "cell_type": "code",
   "execution_count": 42,
   "id": "84e86a93",
   "metadata": {},
   "outputs": [],
   "source": [
    "texto_demo = \"\"\"\n",
    "A modelagem de linguagem natural é uma técnica importante no processamento de linguagem natural. Ela desempenha um papel fundamental na compreensão e interpretação de textos por máquinas, permitindo que os computadores entendam e gerenciem dados textuais. Os modelos de linguagem natural podem ser usados em diversas tarefas, como tradução automática, análise de sentimentos, geração de texto, entre outras. A evolução dos algoritmos e modelos de aprendizado de máquina tem possibilitado avanços significativos nesse campo.\n",
    "\n",
    "Os modelos de linguagem podem ser usados para prever a próxima palavra em uma sequência de palavras. Isso é útil em várias aplicações, como a previsão de texto em dispositivos móveis e sistemas de autocorreção. Além disso, esses modelos ajudam a identificar padrões em grandes volumes de texto, o que é essencial para diversas áreas de pesquisa e tecnologia. O uso de modelos de linguagem natural está cada vez mais presente em assistentes virtuais, como o Siri da Apple, o Alexa da Amazon e o Google Assistant.\n",
    "\n",
    "Existem diversos tipos de modelos de linguagem, incluindo modelos baseados em N-grams e modelos neurais. Cada um tem suas vantagens e limitações, e a escolha do modelo depende do tipo de tarefa e dos dados disponíveis. Modelos baseados em N-grams são simples, mas ainda muito eficazes em várias aplicações. Eles funcionam dividindo o texto em sequências de N palavras e calculando a probabilidade de uma palavra ocorrer com base nas palavras anteriores. Essa abordagem é eficaz em muitas situações, mas tem limitações, como a dificuldade em lidar com dependências de longo alcance no texto.\n",
    "\n",
    "Os modelos baseados em N-grams são mais simples, mas ainda muito úteis em diversas aplicações. Eles são amplamente utilizados em sistemas de tradução automática, correção ortográfica e previsão de texto. No entanto, esses modelos têm uma limitação importante: eles não conseguem capturar dependências de longo alcance entre as palavras. Ou seja, eles não conseguem entender o contexto de palavras que estão distantes umas das outras no texto, o que pode levar a previsões imprecisas em certos casos.\n",
    "\n",
    "Com o avanço das redes neurais, novos modelos de linguagem foram desenvolvidos. Modelos como o LSTM (Long Short-Term Memory) e o Transformer são capazes de lidar melhor com dependências de longo alcance, capturando contextos mais amplos em uma sequência de palavras. Esses modelos têm sido usados com grande sucesso em tarefas como tradução automática, resumo de texto, geração de texto e até mesmo em sistemas de diálogo. Além disso, com o uso de grandes volumes de dados e poderosos recursos computacionais, esses modelos podem ser treinados para entender e gerar texto de forma muito mais sofisticada do que os modelos baseados em N-grams.\n",
    "\n",
    "A evolução dos modelos de linguagem natural também levou ao desenvolvimento de modelos pré-treinados, como o GPT (Generative Pretrained Transformer) e o BERT (Bidirectional Encoder Representations from Transformers). Esses modelos foram treinados em grandes corpora de texto e podem ser adaptados para uma variedade de tarefas específicas, como análise de sentimentos, classificação de texto, entre outras. O GPT, por exemplo, é capaz de gerar texto de forma autônoma, criando parágrafos inteiros com base em um pequeno contexto inicial. Esses modelos são altamente flexíveis e podem ser usados em uma ampla gama de aplicativos.\n",
    "\n",
    "A modelagem de linguagem natural não é apenas útil em tarefas de processamento de texto, mas também tem aplicações em áreas como a análise de sentimentos, onde os modelos tentam entender a opinião expressa em um texto. Isso é amplamente utilizado em plataformas de mídia social, como o Twitter, para analisar o sentimento dos usuários em relação a um determinado assunto, marca ou produto. Além disso, os modelos de linguagem natural também são usados em sistemas de recomendação, onde eles ajudam a identificar padrões de comportamento do usuário e sugerir produtos ou conteúdos relevantes.\n",
    "\n",
    "Outro avanço importante na modelagem de linguagem natural é a análise de sentimentos em tempo real. Essa técnica permite que empresas e organizações monitorem o que está sendo dito sobre elas na internet e respondam rapidamente a críticas ou feedbacks negativos. Ao entender os sentimentos expressos nas mensagens de texto, essas empresas podem ajustar suas estratégias de marketing ou melhorar seus produtos. A análise de sentimentos também é útil em pesquisas de opinião pública, onde ela ajuda a entender as preferências e atitudes de grupos de pessoas sobre questões específicas.\n",
    "\n",
    "Com a chegada da inteligência artificial, os modelos de linguagem natural têm se tornado mais sofisticados, sendo capazes de lidar com tarefas complexas e de alta demanda computacional. Além disso, os avanços na capacidade de processamento de dados, como o uso de GPUs (unidades de processamento gráfico), permitiram o treinamento de modelos cada vez maiores, com mais camadas e parâmetros. Isso resultou em modelos de linguagem natural mais poderosos, que conseguem gerar texto com maior fluência e precisão, além de compreender o contexto de maneira mais eficaz.\n",
    "\n",
    "Os modelos baseados em N-grams ainda têm seu lugar em muitos sistemas, especialmente quando a tarefa exige menos complexidade computacional. Eles são rápidos de treinar e implementam uma abordagem simples para modelar a probabilidade de uma palavra ou sequência de palavras. No entanto, os modelos neurais são mais avançados, oferecendo maior flexibilidade e desempenho em tarefas mais complexas. A combinação dessas abordagens pode levar a sistemas híbridos que aproveitam as vantagens de ambos os tipos de modelos.\n",
    "\n",
    "Com o tempo, a modelagem de linguagem natural se tornou uma área de pesquisa muito ativa, com novos métodos e técnicas sendo desenvolvidos a cada ano. A quantidade de dados disponíveis na internet, aliada aos avanços em aprendizado de máquina, tem impulsionado o progresso nessa área. Além disso, as aplicações de processamento de linguagem natural continuam a se expandir, alcançando novos setores e tornando-se cada vez mais integradas no nosso cotidiano.\n",
    "\n",
    "Os modelos de linguagem natural também têm aplicações em áreas como a educação, onde podem ser usados para criar sistemas de tutoria inteligentes, capazes de responder a perguntas dos alunos e fornecer explicações detalhadas. No setor jurídico, esses modelos podem ajudar na análise de grandes volumes de texto jurídico, ajudando advogados e juízes a encontrar informações relevantes de maneira mais eficiente. Na medicina, os modelos de linguagem natural podem ser usados para analisar prontuários médicos e outros textos relacionados à saúde, ajudando na detecção precoce de doenças e no tratamento de pacientes.\n",
    "\n",
    "Em resumo, a modelagem de linguagem natural é uma área fundamental no processamento de texto e tem um impacto significativo em uma ampla gama de setores. Desde os modelos baseados em N-grams até as redes neurais mais avançadas, esses modelos ajudam a entender, gerar e analisar texto de maneira cada vez mais sofisticada. Com o contínuo avanço da tecnologia e o aumento da disponibilidade de dados, podemos esperar que a modelagem de linguagem natural continue a evoluir e a desempenhar um papel cada vez mais importante em nossas vidas.\n",
    "\"\"\""
   ]
  },
  {
   "cell_type": "markdown",
   "id": "aa1a71cf",
   "metadata": {},
   "source": [
    "limpando o texto e separando em um array com base nos espaços"
   ]
  },
  {
   "cell_type": "code",
   "execution_count": 46,
   "id": "2b10bf1d",
   "metadata": {},
   "outputs": [
    {
     "name": "stdout",
     "output_type": "stream",
     "text": [
      "Quantidade de palavras: 1137\n",
      "Exemplo: ['a', 'modelagem', 'de', 'linguagem', 'natural', 'é', 'uma', 'técnica', 'importante', 'no']\n"
     ]
    }
   ],
   "source": [
    "palavras = limpar_texto(texto_demo).split()\n",
    "print(\"Quantidade de palavras:\", len(palavras))\n",
    "print(\"Exemplo:\", palavras[:10])"
   ]
  },
  {
   "cell_type": "code",
   "execution_count": 47,
   "id": "c8a36a59",
   "metadata": {},
   "outputs": [],
   "source": [
    "class ModeloNGram:\n",
    "    def __init__(self, n):\n",
    "        self.n = n\n",
    "        self.contagens = defaultdict(Counter)\n",
    "        self.modelo = {}\n",
    "\n",
    "    def treinar(self, palavras):\n",
    "        for i in range(len(palavras) - self.n + 1):\n",
    "            contexto = tuple(palavras[i:i+self.n-1])\n",
    "            alvo = palavras[i+self.n-1]\n",
    "            self.contagens[contexto][alvo] += 1\n",
    "\n",
    "        for contexto, alvos in self.contagens.items():\n",
    "            total = sum(alvos.values())\n",
    "            self.modelo[contexto] = {\n",
    "                palavra: freq / total for palavra, freq in alvos.items()\n",
    "            }\n",
    "\n",
    "    def proxima_palavra(self, contexto):\n",
    "        contexto = tuple(contexto[-(self.n-1):]) if self.n > 1 else ()\n",
    "        if contexto in self.modelo:\n",
    "            palavras = list(self.modelo[contexto].keys())\n",
    "            probs = list(self.modelo[contexto].values())\n",
    "            return np.random.choice(palavras, p=probs)\n",
    "        return None\n",
    "\n",
    "    def gerar_texto(self, contexto_inicial, quantidade=15):\n",
    "        if isinstance(contexto_inicial, str):\n",
    "            contexto_inicial = contexto_inicial.split()\n",
    "        if len(contexto_inicial) < self.n - 1:\n",
    "            raise ValueError(f\"Contexto inicial deve ter pelo menos {self.n - 1} palavras\")\n",
    "        texto = list(contexto_inicial)\n",
    "        for _ in range(quantidade):\n",
    "            prox = self.proxima_palavra(texto)\n",
    "            if not prox:\n",
    "                break\n",
    "            texto.append(prox)\n",
    "        return ' '.join(texto)"
   ]
  },
  {
   "cell_type": "markdown",
   "id": "7c2c5e30",
   "metadata": {},
   "source": [
    "treinando modelo com 7gram"
   ]
  },
  {
   "cell_type": "code",
   "execution_count": 48,
   "id": "4d4f0a13",
   "metadata": {},
   "outputs": [],
   "source": [
    "modelo_7gram = ModeloNGram(7)\n",
    "\n",
    "modelo_7gram.treinar(palavras)"
   ]
  },
  {
   "cell_type": "markdown",
   "id": "5db4f7cb",
   "metadata": {},
   "source": [
    "Calculando a perplexidade"
   ]
  },
  {
   "cell_type": "code",
   "execution_count": 49,
   "id": "c226061f",
   "metadata": {},
   "outputs": [
    {
     "name": "stdout",
     "output_type": "stream",
     "text": [
      "Perplexidade:\n",
      "Unigram: 10000000000.000008\n",
      "Bigram: 10000000000.000008\n",
      "Trigram: 10000000000.000008\n"
     ]
    }
   ],
   "source": [
    "def calcular_perplexidade(modelo, texto_teste):\n",
    "    tokens = limpar_texto(texto_teste).split()\n",
    "    log_prob = 0\n",
    "    total = 0\n",
    "    for i in range(modelo.n - 1, len(tokens)):\n",
    "        contexto = tuple(tokens[i - modelo.n + 1:i]) if modelo.n > 1 else ()\n",
    "        alvo = tokens[i]\n",
    "        prob = modelo.modelo.get(contexto, {}).get(alvo, 1e-10)\n",
    "        log_prob += np.log2(prob)\n",
    "        total += 1\n",
    "    return 2 ** (-log_prob / total) if total > 0 else float('inf')\n",
    "\n",
    "texto_teste = \"\"\"\n",
    "Os modelos de linguagem são fundamentais para diversas aplicações.\n",
    "A modelagem estatística ajuda a entender padrões em textos.\n",
    "\"\"\"\n",
    "\n",
    "print(\"Perplexidade:\")\n",
    "print(\"Unigram:\", calcular_perplexidade(modelo_7gram, texto_teste))\n",
    "print(\"Bigram:\", calcular_perplexidade(modelo_7gram, texto_teste))\n",
    "print(\"Trigram:\", calcular_perplexidade(modelo_7gram, texto_teste))"
   ]
  },
  {
   "cell_type": "code",
   "execution_count": 50,
   "id": "958bc689",
   "metadata": {},
   "outputs": [
    {
     "data": {
      "image/png": "[encoded data removed]",
      "text/plain": [
       "<Figure size 1000x500 with 1 Axes>"
      ]
     },
     "metadata": {},
     "output_type": "display_data"
    }
   ],
   "source": [
    "def mostrar_distribuicao(modelo, contexto=None):\n",
    "    if modelo.n == 1:\n",
    "        contexto = ()\n",
    "    if contexto is None or contexto not in modelo.modelo:\n",
    "        contexto = list(modelo.modelo.keys())[0]\n",
    "    palavras = list(modelo.modelo[contexto].keys())\n",
    "    probs = list(modelo.modelo[contexto].values())\n",
    "    plt.figure(figsize=(10,5))\n",
    "    plt.bar(palavras[:10], probs[:10])\n",
    "    titulo = \"Distribuição unigram\" if modelo.n == 1 else f\"Contexto: {' '.join(contexto)}\"\n",
    "    plt.title(titulo)\n",
    "    plt.ylabel(\"Probabilidade\")\n",
    "    plt.xticks(rotation=45)\n",
    "    plt.show()\n",
    "\n",
    "mostrar_distribuicao(modelo_7gram)\n"
   ]
  },
  {
   "cell_type": "markdown",
   "id": "cf4004e9",
   "metadata": {},
   "source": [
    "calculando a distancia de edição entre duas palavras."
   ]
  },
  {
   "cell_type": "markdown",
   "id": "0b8c16a3",
   "metadata": {},
   "source": [
    "sugere uma palavra próxima a partir de um modelo de n-gram"
   ]
  },
  {
   "cell_type": "code",
   "execution_count": 52,
   "id": "bd6bcf60",
   "metadata": {},
   "outputs": [],
   "source": [
    "def distancia_edicao(s1, s2):\n",
    "    if len(s1) < len(s2):\n",
    "        return distancia_edicao(s2, s1)\n",
    "    if len(s2) == 0:\n",
    "        return len(s1)\n",
    "    anterior = list(range(len(s2) + 1))\n",
    "    for i, c1 in enumerate(s1):\n",
    "        atual = [i + 1]\n",
    "        for j, c2 in enumerate(s2):\n",
    "            custos = [\n",
    "                anterior[j + 1] + 1,\n",
    "                atual[j] + 1,\n",
    "                anterior[j] + (c1 != c2)\n",
    "            ]\n",
    "            atual.append(min(custos))\n",
    "        anterior = atual\n",
    "    return anterior[-1]\n",
    "\n",
    "def sugerir_palavra(palavra, modelo):\n",
    "    # Tenta procurar a palavra no modelo, mas o contexto precisa ser ajustado.\n",
    "    contexto = tuple([palavra] * (modelo.n - 1))  # Criar um contexto fictício com palavras repetidas\n",
    "    if contexto in modelo.modelo:\n",
    "        return palavra\n",
    "\n",
    "    candidatos = []\n",
    "    for voc in modelo.modelo:\n",
    "        dist = distancia_edicao(palavra, voc[-1])  # Comparar com a última palavra do contexto\n",
    "        if dist <= 2:\n",
    "            prob = modelo.modelo[voc].get(voc[-1], 0)  # A probabilidade de voc[-1] ser a próxima palavra\n",
    "            candidatos.append((voc[-1], dist, prob))\n",
    "\n",
    "    if not candidatos:\n",
    "        return palavra\n",
    "    candidatos.sort(key=lambda x: (x[1], -x[2]))\n",
    "    return candidatos[0][0]\n"
   ]
  },
  {
   "cell_type": "code",
   "execution_count": 53,
   "id": "c781130b",
   "metadata": {},
   "outputs": [
    {
     "name": "stdout",
     "output_type": "stream",
     "text": [
      "Correções sugeridas:\n",
      "modelgem → modelagem\n",
      "linguaem → linguagem\n",
      "natual → natural\n",
      "processment → processamento\n",
      "Err → por\n",
      "Test → está\n",
      "Seil → útil\n",
      "Dadus → dados\n",
      "Model → podem\n",
      "Context → contexto\n"
     ]
    }
   ],
   "source": [
    "palavras_erradas = [\"modelgem\", \"linguaem\", \"natual\", \"processment\", \"Err\", \"Test\", \"Seil\", \"Dadus\", \"Model\", \"Context\"]\n",
    "print(\"Correções sugeridas:\")\n",
    "for erro in palavras_erradas:\n",
    "    print(f\"{erro} → {sugerir_palavra(erro, modelo_7gram)}\")"
   ]
  },
  {
   "cell_type": "code",
   "execution_count": 56,
   "id": "a974f9d5",
   "metadata": {},
   "outputs": [
    {
     "name": "stdout",
     "output_type": "stream",
     "text": [
      "Textos gerados:\n",
      "Unigram: a modelagem de linguagem natural é uma técnica importante no processamento de linguagem natural ela desempenha um papel fundamental na compreensão e interpretação de textos por máquinas permitindo que os computadores entendam e gerenciem dados textuais os modelos de linguagem natural podem ser usados em diversas tarefas como tradução automática análise de sentimentos geração de texto entre outras a evolução dos algoritmos e modelos de aprendizado de máquina tem possibilitado avanços significativos nesse campo os modelos de linguagem podem ser usados para prever a próxima palavra em uma sequência de palavras isso é útil em várias aplicações como a previsão\n",
      "Bigram: a modelagem de linguagem natural é uma técnica importante no processamento de linguagem natural ela desempenha um papel fundamental na compreensão e interpretação de textos por máquinas permitindo que os computadores entendam e gerenciem dados textuais os modelos de linguagem natural podem ser usados em diversas tarefas como tradução automática análise de sentimentos geração de texto entre outras a evolução dos algoritmos e modelos de aprendizado de máquina tem possibilitado avanços significativos nesse campo os modelos de linguagem podem ser usados para prever a próxima palavra em uma sequência de palavras isso é útil em várias aplicações como a previsão\n",
      "Trigram: a modelagem de linguagem natural é uma técnica importante no processamento de linguagem natural ela desempenha um papel fundamental na compreensão e interpretação de textos por máquinas permitindo que os computadores entendam e gerenciem dados textuais os modelos de linguagem natural podem ser usados em diversas tarefas como tradução automática análise de sentimentos geração de texto entre outras a evolução dos algoritmos e modelos de aprendizado de máquina tem possibilitado avanços significativos nesse campo os modelos de linguagem podem ser usados para prever a próxima palavra em uma sequência de palavras isso é útil em várias aplicações como a previsão de texto em dispositivos móveis e sistemas de autocorreção além disso esses modelos ajudam a identificar padrões em grandes volumes de texto o que é essencial para diversas áreas de pesquisa e tecnologia o uso de modelos de linguagem natural está cada vez mais presente em assistentes virtuais como o siri da apple o alexa da amazon e o google assistant existem diversos tipos de modelos de linguagem incluindo modelos baseados em n grams e modelos neurais cada um tem suas vantagens e limitações e a escolha do modelo depende do tipo de tarefa e dos dados disponíveis modelos baseados em n grams são simples mas ainda muito eficazes em várias aplicações eles funcionam dividindo o texto em sequências de n palavras e calculando a probabilidade de uma palavra ocorrer com base nas palavras anteriores essa abordagem é eficaz em muitas situações mas tem limitações como a dificuldade em lidar com dependências de longo alcance no texto os modelos baseados em n grams são mais simples mas ainda muito úteis em diversas aplicações eles são amplamente utilizados em sistemas de tradução automática correção ortográfica e previsão de texto no entanto esses modelos têm uma limitação importante eles não conseguem capturar dependências de longo alcance entre as palavras ou seja eles não conseguem entender o contexto de palavras que estão distantes umas das outras no texto o que pode levar a previsões imprecisas em certos casos com o avanço das redes neurais novos modelos de linguagem foram desenvolvidos modelos como o lstm long short term memory e o transformer são capazes de lidar melhor com dependências de longo alcance capturando contextos mais amplos em uma sequência de palavras esses modelos têm sido usados com grande sucesso em tarefas como tradução automática resumo de texto geração de texto e até mesmo em sistemas de diálogo além disso com o uso de grandes volumes de dados e poderosos recursos computacionais esses modelos podem ser treinados para entender e gerar texto de forma muito mais sofisticada do que os modelos baseados em n grams a evolução dos modelos de linguagem natural também levou ao desenvolvimento de modelos pré treinados como o gpt generative pretrained transformer e o bert bidirectional encoder representations from transformers esses modelos foram treinados em grandes corpora de texto e podem ser adaptados para uma variedade de tarefas específicas como análise de sentimentos classificação de texto entre outras o gpt por exemplo é capaz de gerar texto de forma autônoma criando parágrafos inteiros com base em um pequeno contexto inicial esses modelos são altamente flexíveis e podem ser usados em uma ampla gama de aplicativos a modelagem de linguagem natural não é apenas útil em tarefas de processamento de texto mas também tem aplicações em áreas como a análise de sentimentos onde os modelos tentam entender a opinião expressa em um texto isso é amplamente utilizado em plataformas de mídia social como o twitter para analisar o sentimento dos usuários em relação a um determinado assunto marca ou produto além disso os modelos de linguagem natural também são usados em sistemas de recomendação onde eles ajudam a identificar padrões de comportamento do usuário e sugerir produtos ou conteúdos relevantes outro avanço importante na modelagem de linguagem natural é a análise de sentimentos em tempo real essa técnica permite que empresas e organizações monitorem o que está sendo dito sobre elas na internet e respondam rapidamente a críticas ou feedbacks negativos ao entender os sentimentos expressos nas mensagens de texto essas empresas podem ajustar suas estratégias de marketing ou melhorar seus produtos a análise de sentimentos também é útil em pesquisas de opinião pública onde ela ajuda a entender as preferências e atitudes de grupos de pessoas sobre questões específicas com a chegada da inteligência artificial os modelos de linguagem natural têm se tornado mais sofisticados sendo capazes de lidar com tarefas complexas e de alta demanda computacional além disso os avanços na capacidade de processamento de dados como o uso de gpus unidades de processamento gráfico permitiram o treinamento de modelos cada vez maiores com mais camadas e parâmetros isso resultou em modelos de linguagem natural mais poderosos que conseguem gerar texto com maior fluência e precisão além de compreender o contexto de maneira mais eficaz os modelos baseados em n grams ainda têm seu lugar em muitos sistemas especialmente quando a tarefa exige menos complexidade computacional eles são rápidos de treinar e implementam uma abordagem simples para modelar a probabilidade de uma palavra ou sequência de palavras no entanto os modelos neurais são mais avançados oferecendo maior flexibilidade e desempenho em tarefas mais complexas a combinação dessas abordagens pode levar a sistemas híbridos que aproveitam as vantagens de ambos os tipos de modelos com o tempo a modelagem de linguagem natural se tornou uma área de pesquisa muito ativa com novos métodos e técnicas sendo desenvolvidos a cada ano a quantidade de dados disponíveis na internet aliada aos avanços em aprendizado de máquina tem impulsionado o progresso nessa área além disso as aplicações de processamento de linguagem natural continuam a se expandir alcançando novos setores e tornando se cada vez mais integradas no nosso cotidiano os modelos de linguagem natural também têm aplicações em áreas como a educação onde podem ser usados para criar sistemas de tutoria inteligentes capazes de responder a perguntas dos alunos e fornecer explicações detalhadas no setor jurídico esses modelos podem ajudar na análise de grandes volumes de texto jurídico ajudando advogados e juízes a encontrar informações relevantes de maneira mais eficiente na medicina os modelos de linguagem natural podem ser usados para analisar prontuários médicos e outros textos relacionados à saúde ajudando na detecção precoce de doenças e no tratamento de pacientes em resumo a modelagem de linguagem natural é uma área fundamental no processamento de texto e tem um impacto significativo em uma ampla gama de setores desde os modelos baseados em n grams até as redes neurais mais avançadas esses modelos ajudam a entender gerar e analisar texto de maneira cada vez mais sofisticada com o contínuo avanço da tecnologia e o aumento da disponibilidade de dados podemos esperar que a modelagem de linguagem natural continue a evoluir e a desempenhar um papel cada vez mais importante em nossas vidas\n"
     ]
    }
   ],
   "source": [
    "teste = palavras[:50]\n",
    "teste2 = palavras[:10000]\n",
    "print(\"Textos gerados:\")\n",
    "print(\"Unigram:\", modelo_7gram.gerar_texto(teste, 50))\n",
    "print(\"Bigram:\", modelo_7gram.gerar_texto(teste, 50))\n",
    "print(\"Trigram:\", modelo_7gram.gerar_texto(teste2, 10000))"
   ]
  }
 ],
 "metadata": {
  "kernelspec": {
   "display_name": "Python 3",
   "language": "python",
   "name": "python3"
  },
  "language_info": {
   "codemirror_mode": {
    "name": "ipython",
    "version": 3
   },
   "file_extension": ".py",
   "mimetype": "text/x-python",
   "name": "python",
   "nbconvert_exporter": "python",
   "pygments_lexer": "ipython3",
   "version": "3.12.1"
  }
 },
 "nbformat": 4,
 "nbformat_minor": 5
}
